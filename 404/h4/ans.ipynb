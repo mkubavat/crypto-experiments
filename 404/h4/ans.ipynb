{
 "cells": [
  {
   "cell_type": "code",
   "execution_count": 5,
   "metadata": {},
   "outputs": [
    {
     "name": "stdout",
     "output_type": "stream",
     "text": [
      "true\n",
      "n= 58771387403268982796798319679\n",
      "phi= 58771387403268495677312088976\n",
      "d= 23070426156428764027163392521\n"
     ]
    }
   ],
   "source": [
    "from sympy import mod_inverse\n",
    "\n",
    "# Given primes p and q\n",
    "p = 267010991763287 # Your p value here\n",
    "q = 220108494467417 # Your q value here\n",
    "\n",
    "# Calculate the modulus\n",
    "n = p * q\n",
    "\n",
    "# Calculate Euler's totient function φ(n)\n",
    "phi_n = (p - 1) * (q - 1)\n",
    "\n",
    "# Given exponent e\n",
    "e = 15688313\n",
    "\n",
    "# Calculate the multiplicative inverse of e modulo φ(n)\n",
    "d = mod_inverse(e, phi_n)\n",
    "if(e*d%phi_n==1):\n",
    "    print(\"true\")\n",
    "else:\n",
    "    print(\"false\")\n",
    "print(\"n=\",n)\n",
    "print(\"phi=\",phi_n)\n",
    "print(\"d=\",d)"
   ]
  },
  {
   "cell_type": "markdown",
   "metadata": {},
   "source": [
    "q2"
   ]
  },
  {
   "cell_type": "code",
   "execution_count": 7,
   "metadata": {},
   "outputs": [
    {
     "data": {
      "text/plain": [
       "('b5349beeafe21c46b90ff4c8951f197ba2ea35b5',\n",
       " '3683e9f50d59e20874297295119dbee396415b3f',\n",
       " 'd3028bc6114c88bf2f020b811e3e1315511c375b')"
      ]
     },
     "execution_count": 7,
     "metadata": {},
     "output_type": "execute_result"
    }
   ],
   "source": [
    "from Crypto.Hash import SHA256\n",
    "from Crypto.Cipher import AES\n",
    "from Crypto.Util.Padding import pad\n",
    "import binascii\n",
    "\n",
    "# Given RSA public key (n, e)\n",
    "n = 68739511951180236138134878471\n",
    "e = 14980283\n",
    "\n",
    "# Given integer x\n",
    "x = 421884429096581112900569\n",
    "\n",
    "# Message to encrypt\n",
    "message = b\"The quick brown fox jumps over the lazy dog.\"\n",
    "\n",
    "# Step 1: Create a SHA256 bits long key K\n",
    "hash_object = SHA256.new(data=str(x).encode())\n",
    "k = hash_object.digest()\n",
    "\n",
    "# Step 2: Encrypt the message using AES-CBC-256 cipher with IV = 0\n",
    "iv = b'\\x00' * AES.block_size\n",
    "cipher_aes = AES.new(k, AES.MODE_CBC, iv)\n",
    "ciphertext = cipher_aes.encrypt(pad(message, AES.block_size))\n",
    "\n",
    "# Step 3: Compute integer y by applying RSA to the integer x using the given RSA public key (no padding)\n",
    "y = pow(x, e, n)\n",
    "\n",
    "# Convert y to bytes and concatenate with the AES ciphertext\n",
    "y_bytes = y.to_bytes((y.bit_length() + 7) // 8, byteorder='big')\n",
    "combined_yc = y_bytes + ciphertext\n",
    "\n",
    "# Convert combined y and c to HEX and split it into three parts as requested\n",
    "combined_yc_hex = binascii.hexlify(combined_yc).decode()\n",
    "first_20_bytes_hex = combined_yc_hex[:40]  # First 20 bytes in hex\n",
    "next_20_bytes_hex = combined_yc_hex[40:80]  # Next 20 bytes in hex\n",
    "final_20_bytes_hex = combined_yc_hex[-40:]  # Final 20 bytes in hex\n",
    "\n",
    "(first_20_bytes_hex, next_20_bytes_hex, final_20_bytes_hex)\n"
   ]
  },
  {
   "cell_type": "markdown",
   "metadata": {},
   "source": [
    "q3"
   ]
  },
  {
   "cell_type": "code",
   "execution_count": 19,
   "metadata": {},
   "outputs": [
    {
     "data": {
      "text/plain": [
       "22667645671797857097289706234"
      ]
     },
     "execution_count": 19,
     "metadata": {},
     "output_type": "execute_result"
    }
   ],
   "source": [
    "from Crypto.PublicKey import RSA\n",
    "from Crypto.Util.number import bytes_to_long, long_to_bytes\n",
    "\n",
    "# Given RSA private key components\n",
    "n = 67638648536063270601672550371\n",
    "d = 6685099266753336756135252851\n",
    "\n",
    "# Hexadecimal representation of y\n",
    "y_hex = \"BC9D481E538964F414EB93C8\"\n",
    "\n",
    "# Convert hex to long int for RSA decryption\n",
    "y_long = int(y_hex, 16)\n",
    "\n",
    "# Decrypt y using the RSA private key components to get x\n",
    "x_long = pow(y_long, d, n)\n",
    "\n",
    "# Convert the decrypted number x back to its decimal form\n",
    "x_decimal = x_long\n",
    "\n",
    "x_decimal\n"
   ]
  },
  {
   "cell_type": "code",
   "execution_count": null,
   "metadata": {},
   "outputs": [],
   "source": []
  },
  {
   "cell_type": "markdown",
   "metadata": {},
   "source": [
    "q4"
   ]
  },
  {
   "cell_type": "code",
   "execution_count": 23,
   "metadata": {},
   "outputs": [
    {
     "name": "stdout",
     "output_type": "stream",
     "text": [
      "No solution found within the given range.\n"
     ]
    }
   ],
   "source": [
    "import gmpy2\n",
    "from gmpy2 import mpz\n",
    "\n",
    "# Values provided in the problem as hexadecimal strings\n",
    "p_str = \"16971125461625596596732575600921957098295765179437973795897732486834216758881934998021484975164099689193234326662149221177745425208457813554142979711910804051404605032050249891777636946685946581842803473140555717292995172245070721062747828303206394321764106639573739881449250420153570322832228127783186170052691253\"\n",
    "g_str = \"809033602890033696230088328428043149879377389159771358257620315509912913085764746286064313085488305260781801523377822847259411781249014226853943864821238821085931175894088557390943899147656917237909857409732912872656117169686989812454869090291316489936944950510879402009624981728533274123215076148280301697266\"\n",
    "h_str = \"3252697656647101067287143752456065415454372792449819643715871369292224574658471263070176331565847147694884609992057475485122300319461833748188230458272421592794999889418898439797004411025503818067004618042901270278776999206130719108647340321040211751045930565772145038980143264406588724188052831318427599067676865\"\n",
    "\n",
    "# Convert hex strings to mpz objects for efficient arithmetic\n",
    "p = mpz(int(p_str, 16))\n",
    "g = mpz(int(g_str, 16))\n",
    "h = mpz(int(h_str, 16))\n",
    "\n",
    "# Define A\n",
    "A = mpz(2**20)\n",
    "\n",
    "# Pre-compute g^A mod p\n",
    "g_A = gmpy2.powmod(g, A, p)\n",
    "\n",
    "# Store g^(A * x1) mod p in a dictionary for all x1 in [0, A-1]\n",
    "right_side = {gmpy2.powmod(g_A, x1, p): x1 for x1 in range(A)}\n",
    "\n",
    "# Attempt to find a collision with h * g^(-x0) for x0 in [0, A-1]\n",
    "for x0 in range(A):\n",
    "    # Compute h * g^(-x0) mod p\n",
    "    value = h * gmpy2.invert(gmpy2.powmod(g, x0, p), p) % p\n",
    "    if value in right_side:\n",
    "        x1 = right_side[value]\n",
    "        secret_x = A * x1 + x0  # secret x = A*x1 + x0\n",
    "        print(f\"The secret x is: {secret_x}\")\n",
    "        break\n",
    "else:\n",
    "    print(\"No solution found within the given range.\")\n"
   ]
  },
  {
   "cell_type": "markdown",
   "metadata": {},
   "source": [
    "q5"
   ]
  },
  {
   "cell_type": "code",
   "execution_count": 30,
   "metadata": {},
   "outputs": [
    {
     "name": "stdout",
     "output_type": "stream",
     "text": [
      "An error occurred during decryption: Padding is incorrect.\n"
     ]
    }
   ],
   "source": [
    "from Crypto.Cipher import AES\n",
    "from Crypto.Util.Padding import unpad\n",
    "import binascii\n",
    "\n",
    "# Your private key (sA)\n",
    "sA_hex = \"1e8a1b1153894b37551d9955e5488e8c4afacd7000fbfb87446888891d2165bf33155a3a333895c45e79fa974e9b90eb\"\n",
    "sA = int(sA_hex, 16)\n",
    "\n",
    "# Server's public key (sB)\n",
    "sB_hex = \"1eabd58232e05ce3d461bb71434f08c9c0ae6e1055cb46bae17d89d85c9e7e7c04fa0eff19d5d09362c9bcc9be23fa22\"\n",
    "sB = int(sB_hex, 16)\n",
    "\n",
    "# Given modulus p as a hex string\n",
    "p_hex = '00ba7207945d19e984f5f4a2925ee2f4b724e9295fa2783f24813c2c75e14ab894992990a9b151235fa6a80dbbae7ee6a4b'\n",
    "p = int(p_hex, 16)\n",
    "\n",
    "# Calculate the shared secret s = (sB^sA mod p)\n",
    "s = pow(sB, sA, p)\n",
    "\n",
    "# Convert shared secret s into bytes\n",
    "s_bytes = s.to_bytes((s.bit_length() + 7) // 8, 'big')\n",
    "\n",
    "# Since the shared secret might be less than 384 bits, we need to pad it\n",
    "# The IV is the first 128 bits of the shared secret\n",
    "# The key is the next 256 bits of the shared secret\n",
    "s_padded = s_bytes.rjust(48, b'\\x00')  # Pad s_bytes to 48 bytes (384 bits)\n",
    "IV = s_padded[:16]\n",
    "key = s_padded[16:48]\n",
    "\n",
    "# The ciphertext received from the server\n",
    "ciphertext = \"5f1dbb25486ae3d672c5a4ac1a67b5fe5e2a5793e7740cc723f62a27ce11df1428a07e0179a6756366b383763e13a961c3c6c5abaabcf75a2466895af6fecef2\"\n",
    "ciphertext_bytes = binascii.unhexlify(ciphertext)\n",
    "\n",
    "# Decrypt the ciphertext with AES-CBC using the derived key and IV\n",
    "cipher = AES.new(key, AES.MODE_CBC, IV)\n",
    "\n",
    "try:\n",
    "    # Decrypt and unpad the plaintext\n",
    "    plaintext = unpad(cipher.decrypt(ciphertext_bytes), AES.block_size)\n",
    "    print(\"The secret message is:\", plaintext.decode('utf-8'))\n",
    "except ValueError as e:\n",
    "    print(\"An error occurred during decryption:\", e)\n",
    "\n",
    "\n",
    "\n",
    "#par= 1e8a1b1153894b37551d9955e5488e8c4afacd7000fbfb87446888891d2165bf33155a3a333895c45e79fa974e9b90eb"
   ]
  },
  {
   "cell_type": "markdown",
   "metadata": {},
   "source": [
    "q6"
   ]
  },
  {
   "cell_type": "code",
   "execution_count": 18,
   "metadata": {},
   "outputs": [
    {
     "name": "stdout",
     "output_type": "stream",
     "text": [
      "Everything you can imagine is real.\n"
     ]
    }
   ],
   "source": [
    "from Crypto.PublicKey import RSA\n",
    "from Crypto.Cipher import AES\n",
    "from Crypto.Util.Padding import unpad\n",
    "from Crypto.Util.number import long_to_bytes\n",
    "import gmpy2\n",
    "\n",
    "# Your RSA public key in PEM format\n",
    "public_key_pem = \"\"\"-----BEGIN PUBLIC KEY-----\n",
    "MIICIDANBgkqhkiG9w0BAQEFAAOCAg0AMIICCAKCAgEA01A4uTVxnLrBtvwS5oJL\n",
    "AFkcVsaEsZCKu2/f5BnpkHpCCA3WEv+Ds5StPGPsSa7I05qkjZHQEzQE+HZbl0rb\n",
    "lUo8Fe1YmnM7l+avAmUKVzGQ6KKbNVVJ/GaDcVRa19PcO1TqtprB7D9u9N7+t4xA\n",
    "iLfHPOjpm8E+7n8EivpCuHrbS2KWI4D/U7x8k2r93wEE12zdoAsVDR1ojjvoM7NC\n",
    "buzjqiqvMlQGyOAur7ahw5uQKuaw2LTypb8MXdquMo0oPI3Dgfn6TllsF0DL7A54\n",
    "A6vjm5NWMbJejmMPCiBz9GkxJmQldWXAzwYuLf5wk5L+r09KqcHt9oHJvr0UqsYE\n",
    "Kby3OP7XH9ja7brkKGDjvNT8JFQhYqDYsXGF8h4h1SH9O3/R5lD9Ykx0KEct2PE6\n",
    "S7S8zfGhvwaUizivuT2MfMucrSCM0TPgSZpt0GlqpcLEPkPN0EbXqBvgm4fGZEr+\n",
    "VRrwFWOGADMz1XRXm7CqZ5JgTwQ8RBV4j16mh7l0hb/K4JYm5e0P3LqvPBOFrkww\n",
    "HwzJlHPlLJaCZdM0/nK+0pn4eeLTmMND5luWMEV6AKpBfaphRnDVsYJeiCq0NdKN\n",
    "HE/FMKJk/FnXtx/oxcCXdCY4UQsPyJldKULkBKETGvzsFoixbndFbYQ0kH7UQZZA\n",
    "f4N24674Nnh3VulHz/TEh/ECAQM=\n",
    "-----END PUBLIC KEY-----\"\"\"\n",
    "\n",
    "# The encrypted key in hexadecimal format\n",
    "key_encrypted_hex = \"4ba508bb261d0ffc68ee990639d29457974e43fcca91bfbf06d40041dc6eeda221ea5db625c4c5406febdc853f1ab632dc5ee2beb255c8f6086858e6ec0fab9dbdd3e433ecc6f8cc3e8848416381d5254126ca3770f0924f3dcb7bd515f97000\"\n",
    "\n",
    "# The ciphertext in hexadecimal format\n",
    "ciphertext_hex = \"f9e07a132b405d49b878f4428697c74de98e316550dc5eb30af05e66227ec9b23d533e3e4b18e115ce3a84891186e0b6\"\n",
    "\n",
    "# Load the public key\n",
    "public_key = RSA.importKey(public_key_pem)\n",
    "modulus_n = public_key.n\n",
    "public_exponent_e = public_key.e\n",
    "\n",
    "# Decrypt the encrypted key using the low public exponent attack\n",
    "key_encrypted_int = int(key_encrypted_hex, 16)\n",
    "key_decrypted_int, exact = gmpy2.iroot(gmpy2.mpz(key_encrypted_int), 3)\n",
    "\n",
    "if not exact:\n",
    "    raise ValueError(\"The cube root of the encrypted key is not exact, the attack cannot proceed.\")\n",
    "\n",
    "key_decrypted_bytes = long_to_bytes(key_decrypted_int)\n",
    "\n",
    "# The IV and key for AES are both 128 bits long\n",
    "iv_decrypted = key_decrypted_bytes[:16]\n",
    "key_decrypted = key_decrypted_bytes[16:32]\n",
    "\n",
    "# Decrypt the ciphertext\n",
    "ciphertext_bytes = bytes.fromhex(ciphertext_hex)\n",
    "cipher_aes = AES.new(key_decrypted, AES.MODE_CBC, iv_decrypted)\n",
    "plaintext_bytes = unpad(cipher_aes.decrypt(ciphertext_bytes), AES.block_size)\n",
    "\n",
    "# Output the decrypted message\n",
    "print(plaintext_bytes.decode('utf-8'))\n"
   ]
  }
 ],
 "metadata": {
  "kernelspec": {
   "display_name": "Python 3",
   "language": "python",
   "name": "python3"
  },
  "language_info": {
   "codemirror_mode": {
    "name": "ipython",
    "version": 3
   },
   "file_extension": ".py",
   "mimetype": "text/x-python",
   "name": "python",
   "nbconvert_exporter": "python",
   "pygments_lexer": "ipython3",
   "version": "3.10.12"
  }
 },
 "nbformat": 4,
 "nbformat_minor": 2
}
