{
 "cells": [
  {
   "cell_type": "code",
   "execution_count": 2,
   "metadata": {},
   "outputs": [
    {
     "name": "stdout",
     "output_type": "stream",
     "text": [
      "true\n",
      "n= 12329369823358586822326848571537893133945999655484440067209664044969343984710078440644548204795633321028007822042159402545605555448031381247696832929564977\n",
      "phi= 12329369823358586822326848571537893133945999655484440067209664044969343984709856207815589588580091005647403060959275915498541141190578735103664107973103716\n",
      "d= 5261574610062910359748497808089656151032267549088130671219614630051766369598322450221804623547125825807506733736805603013003320823627966848944531665956097\n"
     ]
    }
   ],
   "source": [
    "from sympy import mod_inverse\n",
    "\n",
    "# Given primes p and q\n",
    "p = 115298249408953906298939189175783351549219173898770205207152008519638746932703\n",
    "q = 106934579549662309243376191428977731334267873165644052245494135513086209528559\n",
    "\n",
    "# Calculate the modulus\n",
    "n = p * q\n",
    "\n",
    "# Calculate Euler's totient function φ(n)\n",
    "phi_n = (p - 1) * (q - 1)\n",
    "\n",
    "# Given exponent e\n",
    "e = 65537\n",
    "\n",
    "# Calculate the multiplicative inverse of e modulo φ(n)\n",
    "d = mod_inverse(e, phi_n)\n",
    "if(e*d%phi_n==1):\n",
    "    print(\"true\")\n",
    "else:\n",
    "    print(\"false\")\n",
    "print(\"n=\",n)\n",
    "print(\"phi=\",phi_n)\n",
    "print(\"d=\",d)"
   ]
  },
  {
   "cell_type": "code",
   "execution_count": 25,
   "metadata": {},
   "outputs": [
    {
     "data": {
      "text/plain": [
       "('18d874f6fccb2d6b4848325ddf203498ad16a1c4757735355ea2435cf1a2e222051e01c06d5400f44a25c136d8ffe1a1cc1ead860c0776e2a35732298e60e7eb276',\n",
       " '9b609eb23c29891ea34d5703c0266df9')"
      ]
     },
     "execution_count": 25,
     "metadata": {},
     "output_type": "execute_result"
    }
   ],
   "source": [
    "from Crypto.Cipher import AES\n",
    "from Crypto.Hash import SHA256\n",
    "from Crypto.Util.Padding import pad\n",
    "import binascii\n",
    "\n",
    "# Constants provided by the user\n",
    "x =111106725858912721126303010983641533711713\n",
    "message = \"Hello World!!!\"\n",
    "\n",
    "# Convert x from hex to decimal\n",
    "#x = int(x_hex, 16)\n",
    "\n",
    "# Encrypt x with RSA\n",
    "y = pow(x, e, n)\n",
    "\n",
    "# Hash x to get the AES key\n",
    "hasher = SHA256.new()\n",
    "hasher.update(x_hex.encode('utf-8'))  # The hasher expects bytes, so we encode the hex string\n",
    "k = hasher.digest()  # This is a bytes object of the hash\n",
    "#print(k)\n",
    "# AES encryption with the given key k\n",
    "cipher = AES.new(k, AES.MODE_CBC, iv=b'\\x00'*16)  # The IV is 16 bytes of zeros\n",
    "padded_message = pad(message.encode(), AES.block_size)  # The message must be padded to fit the block size\n",
    "ciphertext = cipher.encrypt(padded_message)\n",
    "\n",
    "# Convert the ciphertext to a hexadecimal representation\n",
    "c_hex = binascii.hexlify(ciphertext).decode('utf-8')\n",
    "\n",
    "# The final output is the pair (y, c), where y is the encrypted x, and c is the encrypted message.\n",
    "# We output them as hexadecimal strings.\n",
    "y_hex = hex(y)[2:]  # Convert the encrypted x to hex and strip the '0x' prefix\n",
    "result = (y_hex, c_hex)\n",
    "\n",
    "result\n"
   ]
  },
  {
   "cell_type": "code",
   "execution_count": 27,
   "metadata": {},
   "outputs": [
    {
     "ename": "Error",
     "evalue": "Odd-length string",
     "output_type": "error",
     "traceback": [
      "\u001b[0;31m---------------------------------------------------------------------------\u001b[0m",
      "\u001b[0;31mError\u001b[0m                                     Traceback (most recent call last)",
      "Cell \u001b[0;32mIn[27], line 32\u001b[0m\n\u001b[1;32m     26\u001b[0m c_hex \u001b[38;5;241m=\u001b[39m (\u001b[38;5;124m\"\u001b[39m\u001b[38;5;124mC16E4AEBC9D2027E6608805CD9EEA46E800C5\u001b[39m\u001b[38;5;124m\"\u001b[39m\n\u001b[1;32m     27\u001b[0m          \u001b[38;5;124m\"\u001b[39m\u001b[38;5;124mE069822CD71D5718CC945FFBF2A7E36F5\u001b[39m\u001b[38;5;124m\"\u001b[39m\n\u001b[1;32m     28\u001b[0m          \u001b[38;5;124m\"\u001b[39m\u001b[38;5;124m8A705D9720DB4203A2205A193920937BEA\u001b[39m\u001b[38;5;124m\"\u001b[39m\n\u001b[1;32m     29\u001b[0m          \u001b[38;5;124m\"\u001b[39m\u001b[38;5;124m3288A34A8F857EE535674E7DDE452BB1456\u001b[39m\u001b[38;5;124m\"\u001b[39m)\n\u001b[1;32m     31\u001b[0m \u001b[38;5;66;03m# Convert hex to bytes for AES decryption\u001b[39;00m\n\u001b[0;32m---> 32\u001b[0m c_bytes \u001b[38;5;241m=\u001b[39m \u001b[43mbinascii\u001b[49m\u001b[38;5;241;43m.\u001b[39;49m\u001b[43munhexlify\u001b[49m\u001b[43m(\u001b[49m\u001b[43mc_hex\u001b[49m\u001b[43m)\u001b[49m\n\u001b[1;32m     34\u001b[0m \u001b[38;5;66;03m# Initialize AES-CBC cipher with the derived key and an IV of all zeroes\u001b[39;00m\n\u001b[1;32m     35\u001b[0m cipher \u001b[38;5;241m=\u001b[39m AES\u001b[38;5;241m.\u001b[39mnew(aes_key, AES\u001b[38;5;241m.\u001b[39mMODE_CBC, iv\u001b[38;5;241m=\u001b[39mlong_to_bytes(\u001b[38;5;241m0\u001b[39m, \u001b[38;5;241m16\u001b[39m))\n",
      "\u001b[0;31mError\u001b[0m: Odd-length string"
     ]
    }
   ],
   "source": [
    "from Crypto.Util.number import long_to_bytes\n",
    "from Crypto.Hash import SHA256\n",
    "from Crypto.Cipher import AES\n",
    "import binascii\n",
    "\n",
    "# Given RSA private key components\n",
    "n = 67638648536063270601672550371\n",
    "d = 6685099266753336756135252851\n",
    "\n",
    "# Hexadecimal representation of y\n",
    "y_hex = \"BC9D481E538964F414EB93C8\"\n",
    "\n",
    "# Convert hex to long int for RSA decryption\n",
    "y_long = int(y_hex, 16)\n",
    "\n",
    "# Decrypt y using RSA to get x\n",
    "x_long = pow(y_long, d, n)\n",
    "\n",
    "# Convert long int x back to bytes\n",
    "x_bytes = long_to_bytes(x_long)\n",
    "\n",
    "# Hash x to obtain the AES key\n",
    "aes_key = SHA256.new(x_bytes).digest()\n",
    "\n",
    "# Hexadecimal representation of the ciphertext c\n",
    "c_hex = (\"C16E4AEBC9D2027E6608805CD9EEA46E800C5\"\n",
    "         \"E069822CD71D5718CC945FFBF2A7E36F5\"\n",
    "         \"8A705D9720DB4203A2205A193920937BEA\"\n",
    "         \"3288A34A8F857EE535674E7DDE452BB1456\")\n",
    "\n",
    "# Convert hex to bytes for AES decryption\n",
    "c_bytes = binascii.unhexlify(c_hex)\n",
    "\n",
    "# Initialize AES-CBC cipher with the derived key and an IV of all zeroes\n",
    "cipher = AES.new(aes_key, AES.MODE_CBC, iv=long_to_bytes(0, 16))\n",
    "\n",
    "# Decrypt the ciphertext to get the plaintext message m\n",
    "m_bytes = cipher.decrypt(c_bytes)\n",
    "\n",
    "# Attempt to manually unpad the message\n",
    "def manual_unpad(data):\n",
    "    pad_len = data[-1]\n",
    "    if pad_len < 1 or pad_len > 16:\n",
    "        raise ValueError(\"Invalid padding length.\")\n",
    "    if data.endswith(bytes([pad_len]) * pad_len):\n",
    "        return data[:-pad_len]\n",
    "    else:\n",
    "        raise ValueError(\"Invalid padding.\")\n",
    "\n",
    "# Use the manual unpadding function instead of unpad_pkcs7\n",
    "try:\n",
    "    m_unpadded = manual_unpad(m_bytes)\n",
    "    m_str = m_unpadded.decode('utf-8')\n",
    "except ValueError as e:\n",
    "    print(\"An error occurred during decryption or unpadding:\", e)\n",
    "    m_str = None  # In case of an error, do not use the m_bytes for output\n",
    "\n",
    "if m_str:\n",
    "    print(\"Decrypted message m:\", m_str)\n",
    "else:\n",
    "    print(\"Decrypted message m could not be determined.\")\n",
    "\n",
    "print(\"Decrypted integer x in decimal:\", x_long)\n"
   ]
  },
  {
   "cell_type": "code",
   "execution_count": null,
   "metadata": {},
   "outputs": [],
   "source": []
  },
  {
   "cell_type": "code",
   "execution_count": 13,
   "metadata": {},
   "outputs": [
    {
     "data": {
      "text/plain": [
       "('a12c6555895811fcf162d368d60c22e3a094ef3ed5f072eb1952383ec84eae0418c96fef2110698a2bfd940e4a359f84f70195b64c7a37cca48a3fc6a27eb85d',\n",
       " '03203f38af1390b8b4a961f9c8eaabe8')"
      ]
     },
     "execution_count": 13,
     "metadata": {},
     "output_type": "execute_result"
    }
   ],
   "source": [
    "import hashlib\n",
    "from Crypto.PublicKey import RSA\n",
    "from Crypto.Cipher import AES, PKCS1_OAEP\n",
    "from Crypto.Util.Padding import pad\n",
    "import binascii\n",
    "\n",
    "# The message to encrypt\n",
    "message = b\"Hello World!!!\"\n",
    "\n",
    "# Step 1: Random number x (given in hex, convert to int)\n",
    "x_hex = '1468369091346689468057626077110561'\n",
    "x = int(x_hex, 16)\n",
    "\n",
    "# Step 2: RSA encryption with the correct y value provided by the user\n",
    "y_correct = 8441337013066137990163781585057952690193509976005942098377220241417205509147148382667275889497884138355302679507679060946846382921432798426601428824799325\n",
    "y_hex_correct = hex(y_correct)[2:]  # Convert to hexadecimal\n",
    "\n",
    "# Step 3: Hash x to get the AES key\n",
    "x_bytes = x.to_bytes((x.bit_length() + 7) // 8, byteorder='big')\n",
    "k = hashlib.sha256(x_bytes).digest()\n",
    "\n",
    "# Step 4: AES encryption of the message\n",
    "# For simplicity, we'll use a zero IV\n",
    "iv = b'\\x00' * AES.block_size\n",
    "cipher_aes = AES.new(k, AES.MODE_CBC, iv)\n",
    "ciphertext_aes = cipher_aes.encrypt(pad(message, AES.block_size))\n",
    "\n",
    "# Convert ciphertext to hex\n",
    "c_hex = binascii.hexlify(ciphertext_aes).decode()\n",
    "\n",
    "# Step 5: Output the resulting ciphertext (y, c)\n",
    "final_ciphertext_corrected = (y_hex_correct, c_hex)\n",
    "\n",
    "final_ciphertext_corrected\n"
   ]
  }
 ],
 "metadata": {
  "kernelspec": {
   "display_name": "Python 3",
   "language": "python",
   "name": "python3"
  },
  "language_info": {
   "codemirror_mode": {
    "name": "ipython",
    "version": 3
   },
   "file_extension": ".py",
   "mimetype": "text/x-python",
   "name": "python",
   "nbconvert_exporter": "python",
   "pygments_lexer": "ipython3",
   "version": "3.10.12"
  }
 },
 "nbformat": 4,
 "nbformat_minor": 2
}
